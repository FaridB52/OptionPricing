{
 "cells": [
  {
   "cell_type": "markdown",
   "id": "450be8d2-6483-4570-b7d0-bc83c98a7ef9",
   "metadata": {},
   "source": [
    "# **Machine Learning and Option Pricing**"
   ]
  },
  {
   "cell_type": "markdown",
   "id": "b4afc84f-80a0-4d3b-b98a-365ed7715e48",
   "metadata": {},
   "source": [
    " We investigate option pricing strategies by incorporating advanced machine-learning techniques. Given the complexity and dynamic nature of financial markets, especially options trading, traditional models like the Black-Scholes, while foundational, often fail to capture real-world intricacies. By leveraging machine learning, we can potentially achieve more accurate and robust option pricing; we study the ticker symbol **SPY**, an **S&P 500 ETF**. \n",
    "\n",
    "The Black-Shoels model is a mathematical model used to price European call and put options. The assumptions in this model are\n",
    "\n",
    "- the price of the underlying asset follows a geometric Brownian motion\n",
    "- with constant volatility, and\n",
    "- that the markets are efficient (no arbitrage opportunity).\n",
    "\n",
    "The key variables in Black-Scholes mode are\n",
    "\n",
    "- **S:** Current price of the underlying asset\n",
    "- **K:** Strike price of the option\n",
    "- **T:** Time to expiration in years\n",
    "- **r:** Risk-free interest rate (annualized)\n",
    "- **$\\sigma$** Volatility of the underlying asset (which is a function of the asset's returns)\n",
    "\n",
    "### **Black-Scholes Formula for a European Call Option:**\n",
    "\n",
    "The price of a European call option (C) is given by the following formula: \n",
    "$$C = S.{\\rm N}(d_1)-K.e^{-rT}.{\\rm N}(d_2)$$ \n",
    "where \n",
    "\n",
    "- ${\\rm N}$ is the cumulative distribution function (CDF) of the standard normal distribution.\n",
    "- $d_1=\\frac{ \\ln\\left(\\frac{S}{K}\\right) + \\left(r+\\frac{\\sigma^2}{2}\\right)T } {\\sigma\\sqrt{T}}$\n",
    "- $d_2 = d_1 - \\sigma \\sqrt{T}$\n",
    "\n",
    "Our primary goal is to implement machine learning algorithms using inputs that at least match those of the Black-Scholes model. Therefore, we need data on the option price and the stock price. "
   ]
  },
  {
   "cell_type": "markdown",
   "id": "7a02df79-2102-4c0e-9525-e772bf70ae49",
   "metadata": {},
   "source": [
    "## 1. **Options**\n",
    "\n",
    "An **option** is a financial contract that gives the holder the right, but not the obligation, to buy or sell an underlying asset (such as a stock, index, or commodity) at a predetermined price (called the **strike price**) before or on a specified expiration date. Options are commonly used in trading strategies for hedging, speculation, or income generation.\n",
    "\n",
    "Options come in two main types:\n",
    "- **Call Options**\n",
    "- **Put Options**\n",
    "\n",
    "Here’s a detailed breakdown of options:\n",
    "\n",
    "### Call Option\n",
    "   - **Definition**: A **call option** gives the holder the right to buy the underlying asset at the strike price before the option expires.\n",
    "   - **Purpose**: Traders buy call options when they believe the price of the underlying asset will rise. The goal is to buy the asset at a lower price (strike price) and sell it at a higher market price.\n",
    "   - **Example**: If you buy a call option for SPY (the S&P 500 ETF) with a strike price of 400, and SPY's price rises to 420, you can exercise the option to buy at 400 and make a profit of 20 per share (minus the cost of the option premium).\n",
    "\n",
    "### Put Option\n",
    "   - **Definition**: A **put option** gives the holder the right to sell the underlying asset at the strike price before the option expires.\n",
    "   - **Purpose**: Traders buy put options when they believe the price of the underlying asset will fall. The goal is to sell the asset at a higher price (strike price) while the market price has decreased.\n",
    "   - **Example**: If you buy a put option for SPY with a strike price of 400, and SPY's price falls to 380, you can exercise the option to sell at 400, making a profit of 20 per share (minus the cost of the option premium).\n",
    "\n",
    "\n",
    "### Fetching the Data\n",
    "When fetching options data for ``SPY`` (or any stock/index) using `yfinance`, the returned table typically includes several columns that provide detailed information about the option contracts. Here's an explanation of each of them:\n",
    "\n",
    "### - **contractSymbol**\n",
    "   - **Description**: A unique identifier for the specific option contract. It usually includes information about the underlying asset (e.g., SPY), the expiration date, strike price, and whether it is a call or put option.\n",
    "\n",
    "### - **lastTradeDate**\n",
    "   - **Description**: The date and time of the most recent trade of the option contract. It helps you understand when the last transaction occurred.\n",
    "\n",
    "### - **strike**\n",
    "   - **Description**: The strike price of the option, which is the price at which the option holder can buy (call) or sell (put) the underlying asset (e.g., SPY).\n",
    "\n",
    "### - **lastPrice**\n",
    "   - **Description**: The most recent price at which the option was traded.\n",
    "\n",
    "### - **bid**\n",
    "   - **Description**: The current highest price a buyer is willing to pay for the option contract.\n",
    "\n",
    "### - **ask**\n",
    "   - **Description**: The current lowest price a seller is asking for the option contract.\n",
    "\n",
    "### - **change**\n",
    "   - **Description**: The change in the price of the option compared to its previous closing price.\n",
    "\n",
    "### - **percentChange**\n",
    "   - **Description**: The percentage change in the price of the option compared to its previous closing price.\n",
    "\n",
    "### - **volume**\n",
    "   - **Description**: The number of contracts that have been traded during the current trading day. This helps assess the liquidity of the option.\n",
    "\n",
    "### - **openInterest**\n",
    "   - **Description**: The total number of outstanding contracts (both calls and puts) that have not been closed or exercised. It provides an indication of how active or popular the option contract is.\n",
    "\n",
    "### - **impliedVolatility**\n",
    "   - **Description**: The implied volatility is a measure of the market's forecast of the underlying asset’s volatility. It is calculated from the option's price and is an estimate of future volatility.\n",
    "\n",
    "### - **inTheMoney**\n",
    "   - **Description**: Indicates whether the option is \"in the money\" (ITM) or not. \n",
    "     - A **call option** is in the money if the strike price is lower than the current price of the underlying asset.\n",
    "     - A **put option** is in the money if the strike price is higher than the current price of the underlying asset.\n",
    "   - **Example**: `True` (indicating that the option is in the money) or `False` (indicating that the option is out of the money).\n",
    "\n",
    "### - **contractSize**\n",
    "   - **Description**: The number of units of the underlying asset that the option contract represents. For standard U.S. options, this is typically 100 shares.\n",
    "\n",
    "### - **currency**\n",
    "   - **Description**: The currency in which the option price is quoted. This can be important if you're dealing with options in different markets.\n",
    "\n",
    "### - **expirationDateCalls**\n",
    "   - **Description**: This column is specifically for call options and typically shows the expiration date of the options, similar to the `expirationDate` column but focused on calls.\n",
    "\n",
    "Each of these columns provides important details about the option contract for SPY, allowing traders and analysts to assess liquidity, pricing, and the relative attractiveness of the contract.\n"
   ]
  },
  {
   "cell_type": "markdown",
   "id": "993c1283-8dc6-4995-897f-0cfcfc200bc4",
   "metadata": {},
   "source": [
    "## **2. Main questions and target features**\n",
    "\n",
    "Our primary objective is to create a strategy that minimizes risk while maximizing benefits. **We aim to use machine learning algorithms to predict the lastPrice of the call options for ``SPY`` and then compare it with the Black-Scholes model.**\n"
   ]
  },
  {
   "cell_type": "markdown",
   "id": "8d18b135-7840-4985-aea9-5a8ec77d0062",
   "metadata": {},
   "source": [
    "## **3. Preparing the Python environment and imports**\n",
    "\n",
    "<span style=\"font-size: 16px;\">  We ensure that you have installed all the necessary libraries. These libraries will assist us in data retrieval, manipulation, and visualization.</span>"
   ]
  },
  {
   "cell_type": "code",
   "execution_count": 8,
   "id": "82e6008e-c119-423d-abba-4c63709fc8b0",
   "metadata": {},
   "outputs": [],
   "source": [
    "import yfinance as yf\n",
    "import numpy as np\n",
    "import pandas as pd\n",
    "import matplotlib.pyplot as plt\n",
    "import seaborn as sns"
   ]
  },
  {
   "cell_type": "markdown",
   "id": "1a22b6d0-d125-49cb-a750-8548ecfc9fa3",
   "metadata": {},
   "source": [
    "## **4. Retrieving Data and Saving Them Locally** "
   ]
  },
  {
   "cell_type": "markdown",
   "id": "473bef2c-7091-4fa9-9fdb-b56c913694cf",
   "metadata": {},
   "source": [
    "### yfinance package\n",
    "\n",
    "\n",
    "    \n",
    "The `yfinance` package is a popular Python library used to retrieve historical market data from Yahoo Finance. It provides an easy-to-use interface to download stock and option prices, financial statements, and other financial data directly into Python for analysis, backtesting, or research purposes. The package is particularly useful for quantitative finance and data analysis tasks. We save all fetched data in a local drive."
   ]
  },
  {
   "cell_type": "markdown",
   "id": "cc386a67-7173-41e9-a2fb-0bc770c677ac",
   "metadata": {},
   "source": [
    "### The ticker sympol **SPY**\n",
    "\n",
    "The ticker symbol **SPY** represents the **SPDR S&P 500 ETF Trust**, which is an exchange-traded fund (ETF) that seeks to track the performance of the **S&P 500 Index**, a benchmark of the 500 largest publicly traded companies in the U.S. The ETF is managed by **State Street Global Advisors** (SSGA) and is one of the most popular and liquid ETFs in the world."
   ]
  },
  {
   "cell_type": "markdown",
   "id": "5e08c6eb-3905-4afa-98d6-8e40dc6a62e1",
   "metadata": {},
   "source": [
    "### **4.1 ``SPY`` Call Options: Retrieving Data**"
   ]
  },
  {
   "cell_type": "code",
   "execution_count": 79,
   "id": "33c23d1c-c7da-43d6-bf67-2bf9d58c30ca",
   "metadata": {},
   "outputs": [],
   "source": [
    "\n",
    "# Expiration dates\n",
    "expirations = ticker.options\n",
    "\n",
    "# Create an empty list to store all option calls data\n",
    "options_calls_list = []\n",
    "# Create an empty list to store all option pus data\n",
    "#options_calls_puts = []\n",
    "\n",
    "\n",
    "# Loop through each expiration date to fetch options data\n",
    "for exp in expirations:\n",
    "    options = ticker.option_chain(exp)\n",
    "    calls = options.calls\n",
    "    #puts = options.puts \n",
    "    \n",
    "    # Add expiration date to each DataFrame of calls and puts\n",
    "    calls['expirationDateCalls'] = exp\n",
    "    #puts['expirationDate_puts'] = exp\n",
    "\n",
    "    # Append to the all_options DataFrame\n",
    "    options_calls_list.append(calls)\n",
    "    #options_puts_list.append(puts)\n",
    "\n",
    "\n",
    "# Concatenate all DataFrames in the list\n",
    "all_options_calls = pd.concat(options_calls_list, ignore_index=True)\n",
    "\n",
    "# Save the options data to a CSV file\n",
    "all_options_calls.to_csv('spy_options_calls_data.csv', index=False)\n"
   ]
  },
  {
   "cell_type": "markdown",
   "id": "d6a53da1-300e-4798-8965-e3b24d2115c1",
   "metadata": {},
   "source": [
    "### **4.2 ``SPY`` Stock: Retrieving Data**"
   ]
  },
  {
   "cell_type": "code",
   "execution_count": 12,
   "id": "161ef5c2-2383-4f16-8242-13e49928d976",
   "metadata": {},
   "outputs": [],
   "source": [
    "ticker_symbol = 'SPY'\n",
    "# Initialize the yfinance Ticker object for SPY\n",
    "ticker = yf.Ticker(ticker_symbol)\n",
    "\n",
    "stock_history = ticker.history(period='1y')\n",
    "\n",
    "stock_history['Percent_change']=100*(stock_history['Close'].shift(1)-stock_history['Close'])/stock_history['Close']\n",
    "\n",
    "\n",
    "# Save the options data to a CSV file\n",
    "stock_history.to_csv('spy_stock.csv')\n"
   ]
  },
  {
   "cell_type": "markdown",
   "id": "c3dcdab2-8842-40b7-bd69-0c1bb027a820",
   "metadata": {},
   "source": [
    "## **5. Understanding the Data**"
   ]
  },
  {
   "cell_type": "markdown",
   "id": "ec3c09ef-12b0-4b14-844b-33827a423426",
   "metadata": {},
   "source": [
    "### **5.1 ``SPY`` Call Options: Understanding the Data**\n",
    "\n",
    "To have a DataFrame of fixed data, we create the CSV file on the Disk 'spy_options_calls_data_Nov23.csv'. This file is no longer affected by real-time data, and for the rest of this project, we work with this file. "
   ]
  },
  {
   "cell_type": "code",
   "execution_count": 95,
   "id": "9a5361cd-71f3-4f95-a87e-06cb82694383",
   "metadata": {},
   "outputs": [
    {
     "name": "stdout",
     "output_type": "stream",
     "text": [
      "<class 'pandas.core.frame.DataFrame'>\n",
      "RangeIndex: 3705 entries, 0 to 3704\n",
      "Data columns (total 15 columns):\n",
      " #   Column               Non-Null Count  Dtype  \n",
      "---  ------               --------------  -----  \n",
      " 0   contractSymbol       3705 non-null   object \n",
      " 1   lastTradeDate        3705 non-null   object \n",
      " 2   strike               3705 non-null   float64\n",
      " 3   lastPrice            3705 non-null   float64\n",
      " 4   bid                  3702 non-null   float64\n",
      " 5   ask                  3705 non-null   float64\n",
      " 6   change               3705 non-null   float64\n",
      " 7   percentChange        3705 non-null   float64\n",
      " 8   volume               3577 non-null   float64\n",
      " 9   openInterest         3701 non-null   float64\n",
      " 10  impliedVolatility    3705 non-null   float64\n",
      " 11  inTheMoney           3705 non-null   bool   \n",
      " 12  contractSize         3705 non-null   object \n",
      " 13  currency             3705 non-null   object \n",
      " 14  expirationDateCalls  3705 non-null   object \n",
      "dtypes: bool(1), float64(9), object(5)\n",
      "memory usage: 409.0+ KB\n",
      "None\n",
      "            strike    lastPrice          bid          ask       change  \\\n",
      "count  3705.000000  3705.000000  3702.000000  3705.000000  3705.000000   \n",
      "mean    542.666262    85.520262    87.740424    89.266521     0.507201   \n",
      "std     132.756647    94.461449    96.631535    97.724416     2.012917   \n",
      "min     120.000000     0.010000     0.000000     0.000000    -7.089996   \n",
      "25%     473.000000     7.870000     7.795000     8.000000     0.000000   \n",
      "50%     555.000000    54.650000    56.545000    58.480000     0.000000   \n",
      "75%     610.000000   129.110000   132.037500   134.560000     0.000000   \n",
      "max     900.000000   475.490000   475.520000   476.760000    25.220001   \n",
      "\n",
      "       percentChange         volume   openInterest  impliedVolatility  \n",
      "count    3705.000000    3577.000000    3701.000000        3705.000000  \n",
      "mean       -1.082252     353.233995    1550.180492           0.291706  \n",
      "std        11.438433    3758.680703    5392.153896           0.241697  \n",
      "min       -87.500000       1.000000       0.000000           0.000010  \n",
      "25%         0.000000       2.000000      22.000000           0.141427  \n",
      "50%         0.000000       4.000000     206.000000           0.234383  \n",
      "75%         0.000000      23.000000    1103.000000           0.367194  \n",
      "max       100.000000  125401.000000  164788.000000           2.765628  \n"
     ]
    },
    {
     "data": {
      "text/html": [
       "<div>\n",
       "<style scoped>\n",
       "    .dataframe tbody tr th:only-of-type {\n",
       "        vertical-align: middle;\n",
       "    }\n",
       "\n",
       "    .dataframe tbody tr th {\n",
       "        vertical-align: top;\n",
       "    }\n",
       "\n",
       "    .dataframe thead th {\n",
       "        text-align: right;\n",
       "    }\n",
       "</style>\n",
       "<table border=\"1\" class=\"dataframe\">\n",
       "  <thead>\n",
       "    <tr style=\"text-align: right;\">\n",
       "      <th></th>\n",
       "      <th>contractSymbol</th>\n",
       "      <th>lastTradeDate</th>\n",
       "      <th>strike</th>\n",
       "      <th>lastPrice</th>\n",
       "      <th>bid</th>\n",
       "      <th>ask</th>\n",
       "      <th>change</th>\n",
       "      <th>percentChange</th>\n",
       "      <th>volume</th>\n",
       "      <th>openInterest</th>\n",
       "      <th>impliedVolatility</th>\n",
       "      <th>inTheMoney</th>\n",
       "      <th>contractSize</th>\n",
       "      <th>currency</th>\n",
       "      <th>expirationDateCalls</th>\n",
       "    </tr>\n",
       "  </thead>\n",
       "  <tbody>\n",
       "    <tr>\n",
       "      <th>0</th>\n",
       "      <td>SPY241125C00300000</td>\n",
       "      <td>2024-11-21 20:32:18+00:00</td>\n",
       "      <td>300.0</td>\n",
       "      <td>295.04</td>\n",
       "      <td>295.00</td>\n",
       "      <td>296.22</td>\n",
       "      <td>0.000000</td>\n",
       "      <td>0.000000</td>\n",
       "      <td>1.0</td>\n",
       "      <td>240.0</td>\n",
       "      <td>2.765628</td>\n",
       "      <td>True</td>\n",
       "      <td>REGULAR</td>\n",
       "      <td>USD</td>\n",
       "      <td>2024-11-25</td>\n",
       "    </tr>\n",
       "    <tr>\n",
       "      <th>1</th>\n",
       "      <td>SPY241125C00535000</td>\n",
       "      <td>2024-11-20 20:33:29+00:00</td>\n",
       "      <td>535.0</td>\n",
       "      <td>55.00</td>\n",
       "      <td>60.06</td>\n",
       "      <td>61.26</td>\n",
       "      <td>0.000000</td>\n",
       "      <td>0.000000</td>\n",
       "      <td>1.0</td>\n",
       "      <td>1.0</td>\n",
       "      <td>0.544926</td>\n",
       "      <td>True</td>\n",
       "      <td>REGULAR</td>\n",
       "      <td>USD</td>\n",
       "      <td>2024-11-25</td>\n",
       "    </tr>\n",
       "    <tr>\n",
       "      <th>2</th>\n",
       "      <td>SPY241125C00540000</td>\n",
       "      <td>2024-11-21 20:22:54+00:00</td>\n",
       "      <td>540.0</td>\n",
       "      <td>55.04</td>\n",
       "      <td>55.04</td>\n",
       "      <td>56.26</td>\n",
       "      <td>-0.379997</td>\n",
       "      <td>-0.685668</td>\n",
       "      <td>5.0</td>\n",
       "      <td>2.0</td>\n",
       "      <td>0.664554</td>\n",
       "      <td>True</td>\n",
       "      <td>REGULAR</td>\n",
       "      <td>USD</td>\n",
       "      <td>2024-11-25</td>\n",
       "    </tr>\n",
       "    <tr>\n",
       "      <th>3</th>\n",
       "      <td>SPY241125C00550000</td>\n",
       "      <td>2024-11-22 18:16:33+00:00</td>\n",
       "      <td>550.0</td>\n",
       "      <td>46.20</td>\n",
       "      <td>45.06</td>\n",
       "      <td>46.27</td>\n",
       "      <td>9.780003</td>\n",
       "      <td>26.853386</td>\n",
       "      <td>2.0</td>\n",
       "      <td>1.0</td>\n",
       "      <td>0.564457</td>\n",
       "      <td>True</td>\n",
       "      <td>REGULAR</td>\n",
       "      <td>USD</td>\n",
       "      <td>2024-11-25</td>\n",
       "    </tr>\n",
       "    <tr>\n",
       "      <th>4</th>\n",
       "      <td>SPY241125C00560000</td>\n",
       "      <td>2024-11-22 19:39:03+00:00</td>\n",
       "      <td>560.0</td>\n",
       "      <td>34.84</td>\n",
       "      <td>35.07</td>\n",
       "      <td>36.27</td>\n",
       "      <td>5.889999</td>\n",
       "      <td>20.345420</td>\n",
       "      <td>1.0</td>\n",
       "      <td>5.0</td>\n",
       "      <td>0.461675</td>\n",
       "      <td>True</td>\n",
       "      <td>REGULAR</td>\n",
       "      <td>USD</td>\n",
       "      <td>2024-11-25</td>\n",
       "    </tr>\n",
       "  </tbody>\n",
       "</table>\n",
       "</div>"
      ],
      "text/plain": [
       "       contractSymbol              lastTradeDate  strike  lastPrice     bid  \\\n",
       "0  SPY241125C00300000  2024-11-21 20:32:18+00:00   300.0     295.04  295.00   \n",
       "1  SPY241125C00535000  2024-11-20 20:33:29+00:00   535.0      55.00   60.06   \n",
       "2  SPY241125C00540000  2024-11-21 20:22:54+00:00   540.0      55.04   55.04   \n",
       "3  SPY241125C00550000  2024-11-22 18:16:33+00:00   550.0      46.20   45.06   \n",
       "4  SPY241125C00560000  2024-11-22 19:39:03+00:00   560.0      34.84   35.07   \n",
       "\n",
       "      ask    change  percentChange  volume  openInterest  impliedVolatility  \\\n",
       "0  296.22  0.000000       0.000000     1.0         240.0           2.765628   \n",
       "1   61.26  0.000000       0.000000     1.0           1.0           0.544926   \n",
       "2   56.26 -0.379997      -0.685668     5.0           2.0           0.664554   \n",
       "3   46.27  9.780003      26.853386     2.0           1.0           0.564457   \n",
       "4   36.27  5.889999      20.345420     1.0           5.0           0.461675   \n",
       "\n",
       "   inTheMoney contractSize currency expirationDateCalls  \n",
       "0        True      REGULAR      USD          2024-11-25  \n",
       "1        True      REGULAR      USD          2024-11-25  \n",
       "2        True      REGULAR      USD          2024-11-25  \n",
       "3        True      REGULAR      USD          2024-11-25  \n",
       "4        True      REGULAR      USD          2024-11-25  "
      ]
     },
     "execution_count": 95,
     "metadata": {},
     "output_type": "execute_result"
    }
   ],
   "source": [
    "spy_options_calls = pd.read_csv('spy_options_calls_data_Nov23.csv')\n",
    "\n",
    "\n",
    "print(spy_options_calls.info())\n",
    "print(spy_options_calls.describe())\n",
    "spy_options_calls.head()"
   ]
  },
  {
   "cell_type": "markdown",
   "id": "fde2e381-4968-4b4a-a489-46acc59a3629",
   "metadata": {},
   "source": [
    "### **5.2 ``SPY`` Stock: Understanding the Data**"
   ]
  },
  {
   "cell_type": "code",
   "execution_count": 97,
   "id": "bcfee456-5a49-42cc-b720-8e3a591b26f7",
   "metadata": {},
   "outputs": [
    {
     "name": "stdout",
     "output_type": "stream",
     "text": [
      "<class 'pandas.core.frame.DataFrame'>\n",
      "RangeIndex: 252 entries, 0 to 251\n",
      "Data columns (total 10 columns):\n",
      " #   Column          Non-Null Count  Dtype  \n",
      "---  ------          --------------  -----  \n",
      " 0   Date            252 non-null    object \n",
      " 1   Open            252 non-null    float64\n",
      " 2   High            252 non-null    float64\n",
      " 3   Low             252 non-null    float64\n",
      " 4   Close           252 non-null    float64\n",
      " 5   Volume          252 non-null    int64  \n",
      " 6   Dividends       252 non-null    float64\n",
      " 7   Stock Splits    252 non-null    float64\n",
      " 8   Capital Gains   252 non-null    float64\n",
      " 9   Percent_change  251 non-null    float64\n",
      "dtypes: float64(8), int64(1), object(1)\n",
      "memory usage: 19.8+ KB\n",
      "None\n",
      "             Open        High         Low       Close        Volume  \\\n",
      "count  252.000000  252.000000  252.000000  252.000000  2.520000e+02   \n",
      "mean   527.558150  529.815148  525.019010  527.681380  6.004525e+07   \n",
      "std     39.432676   39.425366   39.065972   39.215932  2.152362e+07   \n",
      "min    449.185908  450.665851  447.291468  448.692566  2.728970e+07   \n",
      "25%    500.282382  502.870259  496.659427  500.366066  4.251830e+07   \n",
      "50%    526.108787  528.160364  523.694025  526.297638  5.650445e+07   \n",
      "75%    558.192895  560.784937  555.438816  558.434616  7.278142e+07   \n",
      "max    600.460022  603.349976  599.380005  602.549988  1.462674e+08   \n",
      "\n",
      "        Dividends  Stock Splits  Capital Gains  Percent_change  \n",
      "count  252.000000         252.0          252.0      251.000000  \n",
      "mean     0.027802           0.0            0.0       -0.113027  \n",
      "std      0.219785           0.0            0.0        0.768142  \n",
      "min      0.000000           0.0            0.0       -2.426226  \n",
      "25%      0.000000           0.0            0.0       -0.573981  \n",
      "50%      0.000000           0.0            0.0       -0.115261  \n",
      "75%      0.000000           0.0            0.0        0.241385  \n",
      "max      1.906000           0.0            0.0        2.999728  \n"
     ]
    },
    {
     "data": {
      "text/html": [
       "<div>\n",
       "<style scoped>\n",
       "    .dataframe tbody tr th:only-of-type {\n",
       "        vertical-align: middle;\n",
       "    }\n",
       "\n",
       "    .dataframe tbody tr th {\n",
       "        vertical-align: top;\n",
       "    }\n",
       "\n",
       "    .dataframe thead th {\n",
       "        text-align: right;\n",
       "    }\n",
       "</style>\n",
       "<table border=\"1\" class=\"dataframe\">\n",
       "  <thead>\n",
       "    <tr style=\"text-align: right;\">\n",
       "      <th></th>\n",
       "      <th>Date</th>\n",
       "      <th>Open</th>\n",
       "      <th>High</th>\n",
       "      <th>Low</th>\n",
       "      <th>Close</th>\n",
       "      <th>Volume</th>\n",
       "      <th>Dividends</th>\n",
       "      <th>Stock Splits</th>\n",
       "      <th>Capital Gains</th>\n",
       "      <th>Percent_change</th>\n",
       "    </tr>\n",
       "  </thead>\n",
       "  <tbody>\n",
       "    <tr>\n",
       "      <th>0</th>\n",
       "      <td>2023-11-30 00:00:00-05:00</td>\n",
       "      <td>449.402930</td>\n",
       "      <td>450.665851</td>\n",
       "      <td>447.291468</td>\n",
       "      <td>450.310638</td>\n",
       "      <td>79752700</td>\n",
       "      <td>0.0</td>\n",
       "      <td>0.0</td>\n",
       "      <td>0.0</td>\n",
       "      <td>NaN</td>\n",
       "    </tr>\n",
       "    <tr>\n",
       "      <th>1</th>\n",
       "      <td>2023-12-01 00:00:00-05:00</td>\n",
       "      <td>449.689052</td>\n",
       "      <td>453.517290</td>\n",
       "      <td>449.087205</td>\n",
       "      <td>452.974640</td>\n",
       "      <td>89097900</td>\n",
       "      <td>0.0</td>\n",
       "      <td>0.0</td>\n",
       "      <td>0.0</td>\n",
       "      <td>-0.588113</td>\n",
       "    </tr>\n",
       "    <tr>\n",
       "      <th>2</th>\n",
       "      <td>2023-12-04 00:00:00-05:00</td>\n",
       "      <td>449.521348</td>\n",
       "      <td>452.994373</td>\n",
       "      <td>448.278150</td>\n",
       "      <td>450.596802</td>\n",
       "      <td>72430900</td>\n",
       "      <td>0.0</td>\n",
       "      <td>0.0</td>\n",
       "      <td>0.0</td>\n",
       "      <td>0.527709</td>\n",
       "    </tr>\n",
       "    <tr>\n",
       "      <th>3</th>\n",
       "      <td>2023-12-05 00:00:00-05:00</td>\n",
       "      <td>449.185908</td>\n",
       "      <td>451.484808</td>\n",
       "      <td>448.801097</td>\n",
       "      <td>450.508026</td>\n",
       "      <td>69793500</td>\n",
       "      <td>0.0</td>\n",
       "      <td>0.0</td>\n",
       "      <td>0.0</td>\n",
       "      <td>0.019706</td>\n",
       "    </tr>\n",
       "    <tr>\n",
       "      <th>4</th>\n",
       "      <td>2023-12-06 00:00:00-05:00</td>\n",
       "      <td>452.688518</td>\n",
       "      <td>452.718117</td>\n",
       "      <td>448.248558</td>\n",
       "      <td>448.692566</td>\n",
       "      <td>69124700</td>\n",
       "      <td>0.0</td>\n",
       "      <td>0.0</td>\n",
       "      <td>0.0</td>\n",
       "      <td>0.404611</td>\n",
       "    </tr>\n",
       "  </tbody>\n",
       "</table>\n",
       "</div>"
      ],
      "text/plain": [
       "                        Date        Open        High         Low       Close  \\\n",
       "0  2023-11-30 00:00:00-05:00  449.402930  450.665851  447.291468  450.310638   \n",
       "1  2023-12-01 00:00:00-05:00  449.689052  453.517290  449.087205  452.974640   \n",
       "2  2023-12-04 00:00:00-05:00  449.521348  452.994373  448.278150  450.596802   \n",
       "3  2023-12-05 00:00:00-05:00  449.185908  451.484808  448.801097  450.508026   \n",
       "4  2023-12-06 00:00:00-05:00  452.688518  452.718117  448.248558  448.692566   \n",
       "\n",
       "     Volume  Dividends  Stock Splits  Capital Gains  Percent_change  \n",
       "0  79752700        0.0           0.0            0.0             NaN  \n",
       "1  89097900        0.0           0.0            0.0       -0.588113  \n",
       "2  72430900        0.0           0.0            0.0        0.527709  \n",
       "3  69793500        0.0           0.0            0.0        0.019706  \n",
       "4  69124700        0.0           0.0            0.0        0.404611  "
      ]
     },
     "execution_count": 97,
     "metadata": {},
     "output_type": "execute_result"
    }
   ],
   "source": [
    "spyStock = pd.read_csv(\"spy_stock_Nov30.csv\")\n",
    "print(spyStock.info())\n",
    "print(spyStock.describe())\n",
    "spyStock.head()"
   ]
  },
  {
   "cell_type": "markdown",
   "id": "17ee2605-35e0-4b4d-b6b9-b1c0d8810b60",
   "metadata": {},
   "source": [
    "## **6. Data Transformation**"
   ]
  },
  {
   "cell_type": "markdown",
   "id": "9bfcf65d-286f-47f6-8b94-3301160b9570",
   "metadata": {},
   "source": [
    "### **6.1 ``SPY`` Option Calls: Data Transformation**"
   ]
  },
  {
   "cell_type": "code",
   "execution_count": 104,
   "id": "652244c0-fab2-403f-bfb4-7401278b94fc",
   "metadata": {},
   "outputs": [
    {
     "data": {
      "text/html": [
       "<div>\n",
       "<style scoped>\n",
       "    .dataframe tbody tr th:only-of-type {\n",
       "        vertical-align: middle;\n",
       "    }\n",
       "\n",
       "    .dataframe tbody tr th {\n",
       "        vertical-align: top;\n",
       "    }\n",
       "\n",
       "    .dataframe thead th {\n",
       "        text-align: right;\n",
       "    }\n",
       "</style>\n",
       "<table border=\"1\" class=\"dataframe\">\n",
       "  <thead>\n",
       "    <tr style=\"text-align: right;\">\n",
       "      <th></th>\n",
       "      <th>contractSymbol</th>\n",
       "      <th>lastTradeDate</th>\n",
       "      <th>strike</th>\n",
       "      <th>lastPrice</th>\n",
       "      <th>bid</th>\n",
       "      <th>ask</th>\n",
       "      <th>change</th>\n",
       "      <th>percentChange</th>\n",
       "      <th>volume</th>\n",
       "      <th>openInterest</th>\n",
       "      <th>impliedVolatility</th>\n",
       "      <th>inTheMoney</th>\n",
       "      <th>contractSize</th>\n",
       "      <th>currency</th>\n",
       "      <th>expirationDateCalls</th>\n",
       "    </tr>\n",
       "  </thead>\n",
       "  <tbody>\n",
       "    <tr>\n",
       "      <th>0</th>\n",
       "      <td>SPY241125C00300000</td>\n",
       "      <td>24:11:21 20:32:18</td>\n",
       "      <td>300.0</td>\n",
       "      <td>295.04</td>\n",
       "      <td>295.00</td>\n",
       "      <td>296.22</td>\n",
       "      <td>0.000000</td>\n",
       "      <td>0.000000</td>\n",
       "      <td>1.0</td>\n",
       "      <td>240.0</td>\n",
       "      <td>2.765628</td>\n",
       "      <td>True</td>\n",
       "      <td>REGULAR</td>\n",
       "      <td>USD</td>\n",
       "      <td>2024-11-25</td>\n",
       "    </tr>\n",
       "    <tr>\n",
       "      <th>1</th>\n",
       "      <td>SPY241125C00535000</td>\n",
       "      <td>24:11:20 20:33:29</td>\n",
       "      <td>535.0</td>\n",
       "      <td>55.00</td>\n",
       "      <td>60.06</td>\n",
       "      <td>61.26</td>\n",
       "      <td>0.000000</td>\n",
       "      <td>0.000000</td>\n",
       "      <td>1.0</td>\n",
       "      <td>1.0</td>\n",
       "      <td>0.544926</td>\n",
       "      <td>True</td>\n",
       "      <td>REGULAR</td>\n",
       "      <td>USD</td>\n",
       "      <td>2024-11-25</td>\n",
       "    </tr>\n",
       "    <tr>\n",
       "      <th>2</th>\n",
       "      <td>SPY241125C00540000</td>\n",
       "      <td>24:11:21 20:22:54</td>\n",
       "      <td>540.0</td>\n",
       "      <td>55.04</td>\n",
       "      <td>55.04</td>\n",
       "      <td>56.26</td>\n",
       "      <td>-0.379997</td>\n",
       "      <td>-0.685668</td>\n",
       "      <td>5.0</td>\n",
       "      <td>2.0</td>\n",
       "      <td>0.664554</td>\n",
       "      <td>True</td>\n",
       "      <td>REGULAR</td>\n",
       "      <td>USD</td>\n",
       "      <td>2024-11-25</td>\n",
       "    </tr>\n",
       "    <tr>\n",
       "      <th>3</th>\n",
       "      <td>SPY241125C00550000</td>\n",
       "      <td>24:11:22 18:16:33</td>\n",
       "      <td>550.0</td>\n",
       "      <td>46.20</td>\n",
       "      <td>45.06</td>\n",
       "      <td>46.27</td>\n",
       "      <td>9.780003</td>\n",
       "      <td>26.853386</td>\n",
       "      <td>2.0</td>\n",
       "      <td>1.0</td>\n",
       "      <td>0.564457</td>\n",
       "      <td>True</td>\n",
       "      <td>REGULAR</td>\n",
       "      <td>USD</td>\n",
       "      <td>2024-11-25</td>\n",
       "    </tr>\n",
       "    <tr>\n",
       "      <th>4</th>\n",
       "      <td>SPY241125C00560000</td>\n",
       "      <td>24:11:22 19:39:03</td>\n",
       "      <td>560.0</td>\n",
       "      <td>34.84</td>\n",
       "      <td>35.07</td>\n",
       "      <td>36.27</td>\n",
       "      <td>5.889999</td>\n",
       "      <td>20.345420</td>\n",
       "      <td>1.0</td>\n",
       "      <td>5.0</td>\n",
       "      <td>0.461675</td>\n",
       "      <td>True</td>\n",
       "      <td>REGULAR</td>\n",
       "      <td>USD</td>\n",
       "      <td>2024-11-25</td>\n",
       "    </tr>\n",
       "  </tbody>\n",
       "</table>\n",
       "</div>"
      ],
      "text/plain": [
       "       contractSymbol      lastTradeDate  strike  lastPrice     bid     ask  \\\n",
       "0  SPY241125C00300000  24:11:21 20:32:18   300.0     295.04  295.00  296.22   \n",
       "1  SPY241125C00535000  24:11:20 20:33:29   535.0      55.00   60.06   61.26   \n",
       "2  SPY241125C00540000  24:11:21 20:22:54   540.0      55.04   55.04   56.26   \n",
       "3  SPY241125C00550000  24:11:22 18:16:33   550.0      46.20   45.06   46.27   \n",
       "4  SPY241125C00560000  24:11:22 19:39:03   560.0      34.84   35.07   36.27   \n",
       "\n",
       "     change  percentChange  volume  openInterest  impliedVolatility  \\\n",
       "0  0.000000       0.000000     1.0         240.0           2.765628   \n",
       "1  0.000000       0.000000     1.0           1.0           0.544926   \n",
       "2 -0.379997      -0.685668     5.0           2.0           0.664554   \n",
       "3  9.780003      26.853386     2.0           1.0           0.564457   \n",
       "4  5.889999      20.345420     1.0           5.0           0.461675   \n",
       "\n",
       "   inTheMoney contractSize currency expirationDateCalls  \n",
       "0        True      REGULAR      USD          2024-11-25  \n",
       "1        True      REGULAR      USD          2024-11-25  \n",
       "2        True      REGULAR      USD          2024-11-25  \n",
       "3        True      REGULAR      USD          2024-11-25  \n",
       "4        True      REGULAR      USD          2024-11-25  "
      ]
     },
     "execution_count": 104,
     "metadata": {},
     "output_type": "execute_result"
    }
   ],
   "source": [
    "spy_options_calls['lastTradeDate'] = pd.to_datetime(spy_options_calls['lastTradeDate'])\n",
    "spy_options_calls['lastTradeDate'] = spy_options_calls['lastTradeDate'].dt.strftime('%y:%m:%d %H:%M:%S')\n",
    "spy_options_calls.head()"
   ]
  },
  {
   "cell_type": "markdown",
   "id": "6a84c6ce-4261-4e44-b0a0-05ff928d2f42",
   "metadata": {},
   "source": [
    "We drop the column ``contractSymbol``."
   ]
  },
  {
   "cell_type": "code",
   "execution_count": 112,
   "id": "552dea2f-3aa2-49f3-a354-2968aad12bc3",
   "metadata": {},
   "outputs": [
    {
     "data": {
      "text/html": [
       "<div>\n",
       "<style scoped>\n",
       "    .dataframe tbody tr th:only-of-type {\n",
       "        vertical-align: middle;\n",
       "    }\n",
       "\n",
       "    .dataframe tbody tr th {\n",
       "        vertical-align: top;\n",
       "    }\n",
       "\n",
       "    .dataframe thead th {\n",
       "        text-align: right;\n",
       "    }\n",
       "</style>\n",
       "<table border=\"1\" class=\"dataframe\">\n",
       "  <thead>\n",
       "    <tr style=\"text-align: right;\">\n",
       "      <th></th>\n",
       "      <th>lastTradeDate</th>\n",
       "      <th>strike</th>\n",
       "      <th>lastPrice</th>\n",
       "      <th>bid</th>\n",
       "      <th>ask</th>\n",
       "      <th>change</th>\n",
       "      <th>percentChange</th>\n",
       "      <th>volume</th>\n",
       "      <th>openInterest</th>\n",
       "      <th>impliedVolatility</th>\n",
       "      <th>inTheMoney</th>\n",
       "      <th>contractSize</th>\n",
       "      <th>currency</th>\n",
       "      <th>expirationDateCalls</th>\n",
       "    </tr>\n",
       "  </thead>\n",
       "  <tbody>\n",
       "    <tr>\n",
       "      <th>0</th>\n",
       "      <td>24:11:21 20:32:18</td>\n",
       "      <td>300.0</td>\n",
       "      <td>295.04</td>\n",
       "      <td>295.00</td>\n",
       "      <td>296.22</td>\n",
       "      <td>0.000000</td>\n",
       "      <td>0.000000</td>\n",
       "      <td>1.0</td>\n",
       "      <td>240.0</td>\n",
       "      <td>2.765628</td>\n",
       "      <td>True</td>\n",
       "      <td>REGULAR</td>\n",
       "      <td>USD</td>\n",
       "      <td>2024-11-25</td>\n",
       "    </tr>\n",
       "    <tr>\n",
       "      <th>1</th>\n",
       "      <td>24:11:20 20:33:29</td>\n",
       "      <td>535.0</td>\n",
       "      <td>55.00</td>\n",
       "      <td>60.06</td>\n",
       "      <td>61.26</td>\n",
       "      <td>0.000000</td>\n",
       "      <td>0.000000</td>\n",
       "      <td>1.0</td>\n",
       "      <td>1.0</td>\n",
       "      <td>0.544926</td>\n",
       "      <td>True</td>\n",
       "      <td>REGULAR</td>\n",
       "      <td>USD</td>\n",
       "      <td>2024-11-25</td>\n",
       "    </tr>\n",
       "    <tr>\n",
       "      <th>2</th>\n",
       "      <td>24:11:21 20:22:54</td>\n",
       "      <td>540.0</td>\n",
       "      <td>55.04</td>\n",
       "      <td>55.04</td>\n",
       "      <td>56.26</td>\n",
       "      <td>-0.379997</td>\n",
       "      <td>-0.685668</td>\n",
       "      <td>5.0</td>\n",
       "      <td>2.0</td>\n",
       "      <td>0.664554</td>\n",
       "      <td>True</td>\n",
       "      <td>REGULAR</td>\n",
       "      <td>USD</td>\n",
       "      <td>2024-11-25</td>\n",
       "    </tr>\n",
       "    <tr>\n",
       "      <th>3</th>\n",
       "      <td>24:11:22 18:16:33</td>\n",
       "      <td>550.0</td>\n",
       "      <td>46.20</td>\n",
       "      <td>45.06</td>\n",
       "      <td>46.27</td>\n",
       "      <td>9.780003</td>\n",
       "      <td>26.853386</td>\n",
       "      <td>2.0</td>\n",
       "      <td>1.0</td>\n",
       "      <td>0.564457</td>\n",
       "      <td>True</td>\n",
       "      <td>REGULAR</td>\n",
       "      <td>USD</td>\n",
       "      <td>2024-11-25</td>\n",
       "    </tr>\n",
       "    <tr>\n",
       "      <th>4</th>\n",
       "      <td>24:11:22 19:39:03</td>\n",
       "      <td>560.0</td>\n",
       "      <td>34.84</td>\n",
       "      <td>35.07</td>\n",
       "      <td>36.27</td>\n",
       "      <td>5.889999</td>\n",
       "      <td>20.345420</td>\n",
       "      <td>1.0</td>\n",
       "      <td>5.0</td>\n",
       "      <td>0.461675</td>\n",
       "      <td>True</td>\n",
       "      <td>REGULAR</td>\n",
       "      <td>USD</td>\n",
       "      <td>2024-11-25</td>\n",
       "    </tr>\n",
       "  </tbody>\n",
       "</table>\n",
       "</div>"
      ],
      "text/plain": [
       "       lastTradeDate  strike  lastPrice     bid     ask    change  \\\n",
       "0  24:11:21 20:32:18   300.0     295.04  295.00  296.22  0.000000   \n",
       "1  24:11:20 20:33:29   535.0      55.00   60.06   61.26  0.000000   \n",
       "2  24:11:21 20:22:54   540.0      55.04   55.04   56.26 -0.379997   \n",
       "3  24:11:22 18:16:33   550.0      46.20   45.06   46.27  9.780003   \n",
       "4  24:11:22 19:39:03   560.0      34.84   35.07   36.27  5.889999   \n",
       "\n",
       "   percentChange  volume  openInterest  impliedVolatility  inTheMoney  \\\n",
       "0       0.000000     1.0         240.0           2.765628        True   \n",
       "1       0.000000     1.0           1.0           0.544926        True   \n",
       "2      -0.685668     5.0           2.0           0.664554        True   \n",
       "3      26.853386     2.0           1.0           0.564457        True   \n",
       "4      20.345420     1.0           5.0           0.461675        True   \n",
       "\n",
       "  contractSize currency expirationDateCalls  \n",
       "0      REGULAR      USD          2024-11-25  \n",
       "1      REGULAR      USD          2024-11-25  \n",
       "2      REGULAR      USD          2024-11-25  \n",
       "3      REGULAR      USD          2024-11-25  \n",
       "4      REGULAR      USD          2024-11-25  "
      ]
     },
     "execution_count": 112,
     "metadata": {},
     "output_type": "execute_result"
    }
   ],
   "source": [
    "spy_options_calls_dropped = spy_options_calls.drop('contractSymbol', axis=1)\n",
    "spy_options_calls_dropped.head()"
   ]
  },
  {
   "cell_type": "markdown",
   "id": "b44ddfc7-5d3b-45ef-8dd2-6540670928e8",
   "metadata": {},
   "source": [
    "### **6.2 ``SPY`` Stock: Data Transformation**\n",
    "\n",
    "We first should change the dates and keep them in the format of yyyy-mm-dd, and drop the columns ``Dividends``,\t``Stock Splits``, and\t``Capital Gains`` as we don't use them. "
   ]
  },
  {
   "cell_type": "code",
   "execution_count": 41,
   "id": "5c410260-1e3a-48fc-973f-9024a84d428b",
   "metadata": {},
   "outputs": [
    {
     "data": {
      "text/html": [
       "<div>\n",
       "<style scoped>\n",
       "    .dataframe tbody tr th:only-of-type {\n",
       "        vertical-align: middle;\n",
       "    }\n",
       "\n",
       "    .dataframe tbody tr th {\n",
       "        vertical-align: top;\n",
       "    }\n",
       "\n",
       "    .dataframe thead th {\n",
       "        text-align: right;\n",
       "    }\n",
       "</style>\n",
       "<table border=\"1\" class=\"dataframe\">\n",
       "  <thead>\n",
       "    <tr style=\"text-align: right;\">\n",
       "      <th></th>\n",
       "      <th>Date</th>\n",
       "      <th>Open</th>\n",
       "      <th>High</th>\n",
       "      <th>Low</th>\n",
       "      <th>Close</th>\n",
       "      <th>Volume</th>\n",
       "      <th>Percent_change</th>\n",
       "    </tr>\n",
       "  </thead>\n",
       "  <tbody>\n",
       "    <tr>\n",
       "      <th>0</th>\n",
       "      <td>2023-11-30</td>\n",
       "      <td>449.402930</td>\n",
       "      <td>450.665851</td>\n",
       "      <td>447.291468</td>\n",
       "      <td>450.310638</td>\n",
       "      <td>79752700</td>\n",
       "      <td>NaN</td>\n",
       "    </tr>\n",
       "    <tr>\n",
       "      <th>1</th>\n",
       "      <td>2023-12-01</td>\n",
       "      <td>449.689052</td>\n",
       "      <td>453.517290</td>\n",
       "      <td>449.087205</td>\n",
       "      <td>452.974640</td>\n",
       "      <td>89097900</td>\n",
       "      <td>-0.588113</td>\n",
       "    </tr>\n",
       "    <tr>\n",
       "      <th>2</th>\n",
       "      <td>2023-12-04</td>\n",
       "      <td>449.521348</td>\n",
       "      <td>452.994373</td>\n",
       "      <td>448.278150</td>\n",
       "      <td>450.596802</td>\n",
       "      <td>72430900</td>\n",
       "      <td>0.527709</td>\n",
       "    </tr>\n",
       "    <tr>\n",
       "      <th>3</th>\n",
       "      <td>2023-12-05</td>\n",
       "      <td>449.185908</td>\n",
       "      <td>451.484808</td>\n",
       "      <td>448.801097</td>\n",
       "      <td>450.508026</td>\n",
       "      <td>69793500</td>\n",
       "      <td>0.019706</td>\n",
       "    </tr>\n",
       "    <tr>\n",
       "      <th>4</th>\n",
       "      <td>2023-12-06</td>\n",
       "      <td>452.688518</td>\n",
       "      <td>452.718117</td>\n",
       "      <td>448.248558</td>\n",
       "      <td>448.692566</td>\n",
       "      <td>69124700</td>\n",
       "      <td>0.404611</td>\n",
       "    </tr>\n",
       "  </tbody>\n",
       "</table>\n",
       "</div>"
      ],
      "text/plain": [
       "         Date        Open        High         Low       Close    Volume  \\\n",
       "0  2023-11-30  449.402930  450.665851  447.291468  450.310638  79752700   \n",
       "1  2023-12-01  449.689052  453.517290  449.087205  452.974640  89097900   \n",
       "2  2023-12-04  449.521348  452.994373  448.278150  450.596802  72430900   \n",
       "3  2023-12-05  449.185908  451.484808  448.801097  450.508026  69793500   \n",
       "4  2023-12-06  452.688518  452.718117  448.248558  448.692566  69124700   \n",
       "\n",
       "   Percent_change  \n",
       "0             NaN  \n",
       "1       -0.588113  \n",
       "2        0.527709  \n",
       "3        0.019706  \n",
       "4        0.404611  "
      ]
     },
     "execution_count": 41,
     "metadata": {},
     "output_type": "execute_result"
    }
   ],
   "source": [
    "# Convert the Date column to datetime format\n",
    "spyStock['Date'] = pd.to_datetime(spyStock['Date'], utc=True)\n",
    "\n",
    "# Extract the date part and convert it to string format yyyy-mm-dd\n",
    "spyStock['Date'] = spyStock['Date'].dt.strftime('%Y-%m-%d')\n",
    "\n",
    "spyStock_dropped = spyStock.drop(['Dividends', 'Stock Splits', 'Capital Gains'], axis=1)\n",
    "\n",
    "spyStock_dropped.head()"
   ]
  },
  {
   "cell_type": "markdown",
   "id": "ed585d9b-58c8-4670-83ab-2705026a47db",
   "metadata": {},
   "source": [
    "## **7. Handling Missing Data**"
   ]
  },
  {
   "cell_type": "markdown",
   "id": "9510fd89-3b64-4955-896d-55b1b99445e8",
   "metadata": {},
   "source": [
    "### **7.1 ``SPY`` Option Calss: Handling Missing Data**"
   ]
  },
  {
   "cell_type": "code",
   "execution_count": 129,
   "id": "a5c4c305-dc6b-4b3a-bdf3-b570c3ceb4b8",
   "metadata": {},
   "outputs": [
    {
     "data": {
      "text/plain": [
       "lastTradeDate            0\n",
       "strike                   0\n",
       "lastPrice                0\n",
       "bid                      3\n",
       "ask                      0\n",
       "change                   0\n",
       "percentChange            0\n",
       "volume                 128\n",
       "openInterest             4\n",
       "impliedVolatility        0\n",
       "inTheMoney               0\n",
       "contractSize             0\n",
       "currency                 0\n",
       "expirationDateCalls      0\n",
       "dtype: int64"
      ]
     },
     "execution_count": 129,
     "metadata": {},
     "output_type": "execute_result"
    }
   ],
   "source": [
    "spy_options_calls_dropped.isnull().sum()"
   ]
  },
  {
   "cell_type": "markdown",
   "id": "af17465a-6d2c-46ef-b488-ec410f7bde11",
   "metadata": {},
   "source": [
    "We examined each column to determine the number of missing data entries. We see that for the `volume`, we have a considerable number of missing values. So, to decide if we need to remove the missing values or impute them, we check the distribution of missing data in `volume` with respect to the expiration dates `expirationDateCalls`. "
   ]
  },
  {
   "cell_type": "code",
   "execution_count": 131,
   "id": "fb129d0a-9e44-4311-aab2-fc5a70df735c",
   "metadata": {},
   "outputs": [
    {
     "data": {
      "image/png": "[encoded data removed]",
      "text/plain": [
       "<Figure size 1000x600 with 1 Axes>"
      ]
     },
     "metadata": {},
     "output_type": "display_data"
    }
   ],
   "source": [
    "missing_values_by_exp = spy_options_calls_dropped[spy_options_calls_dropped['volume'].isnull()].groupby('expirationDateCalls').size()\n",
    "missing_values_by_exp = missing_values_by_exp.reset_index()\n",
    "missing_values_by_exp.columns = ['expirationDateCalls', 'missingVolume']\n",
    "\n",
    "#Creating ex_spy DataFrame holding the number of rows in spy_options_calls  with the same expiration date\n",
    "ex_spy = spy_options_calls_dropped.groupby('expirationDateCalls').size().reset_index()\n",
    "ex_spy.columns = ['expirationDateCalls', 'total_counts']\n",
    "\n",
    "# Merge the missing counts with total counts\n",
    "merged_counts = pd.merge(missing_values_by_exp, ex_spy, on='expirationDateCalls')\n",
    "\n",
    "\n",
    "\n",
    "plt.figure(figsize=(10, 6))\n",
    "plt.bar(merged_counts['expirationDateCalls'], merged_counts['missingVolume']/merged_counts['total_counts'] * 100, color='skyblue')\n",
    "plt.xlabel('Expiration Date')\n",
    "plt.ylabel('Percentage of Missing Valumes')\n",
    "plt.xticks(rotation=90)\n",
    "plt.title('Percentage of Missing Valumes Missing with Respect to Expiration Date')\n",
    "plt.show()"
   ]
  },
  {
   "cell_type": "markdown",
   "id": "bfad6b79-807d-4cce-aa26-e7b551e11f85",
   "metadata": {},
   "source": [
    "Since most columns have a small number of missing values, we will completely remove the volume column and drop the other rows containing missing values."
   ]
  },
  {
   "cell_type": "code",
   "execution_count": 133,
   "id": "9eec3b0a-5392-40cd-a4d0-6f2080571ada",
   "metadata": {},
   "outputs": [
    {
     "name": "stderr",
     "output_type": "stream",
     "text": [
      "/var/folders/ns/ldg2lqpn3gv6lxm55vph6x540000gn/T/ipykernel_1206/2288749367.py:4: UserWarning: Boolean Series key will be reindexed to match DataFrame index.\n",
      "  spy_options_calls_droppedV = spy_options_calls[~spy_options_calls_droppedV['openInterest'].isnull()]\n"
     ]
    },
    {
     "data": {
      "text/plain": [
       "contractSymbol         0\n",
       "lastTradeDate          0\n",
       "strike                 0\n",
       "lastPrice              0\n",
       "bid                    0\n",
       "ask                    0\n",
       "change                 0\n",
       "percentChange          0\n",
       "openInterest           0\n",
       "impliedVolatility      0\n",
       "inTheMoney             0\n",
       "contractSize           0\n",
       "currency               0\n",
       "expirationDateCalls    0\n",
       "dtype: int64"
      ]
     },
     "execution_count": 133,
     "metadata": {},
     "output_type": "execute_result"
    }
   ],
   "source": [
    "spy_options_calls_droppedV = spy_options_calls_dropped.drop('volume', axis=1, errors='ignore')\n",
    "\n",
    "spy_options_calls_droppedV = spy_options_calls_droppedV[~spy_options_calls_droppedV['bid'].isnull()]\n",
    "spy_options_calls_droppedV = spy_options_calls[~spy_options_calls_droppedV['openInterest'].isnull()]\n",
    "\n",
    "spy_options_calls_droppedV.isnull().sum()"
   ]
  },
  {
   "cell_type": "markdown",
   "id": "070d9291-1919-4478-9aad-fef3253c9bb4",
   "metadata": {},
   "source": [
    "### **7.2 ``SPY`` Stock: Handling Missing Data**"
   ]
  },
  {
   "cell_type": "code",
   "execution_count": 44,
   "id": "b5e0cdd9-4eab-4b89-9e6a-4234445d03ef",
   "metadata": {},
   "outputs": [
    {
     "data": {
      "text/plain": [
       "Date              0\n",
       "Open              0\n",
       "High              0\n",
       "Low               0\n",
       "Close             0\n",
       "Volume            0\n",
       "Percent_change    1\n",
       "dtype: int64"
      ]
     },
     "execution_count": 44,
     "metadata": {},
     "output_type": "execute_result"
    }
   ],
   "source": [
    "spyStock_dropped.isnull().sum()"
   ]
  },
  {
   "cell_type": "markdown",
   "id": "f3e8f177-88f9-4518-999a-c9e119494c50",
   "metadata": {},
   "source": [
    "We only have one NaN value and we make it zero. "
   ]
  },
  {
   "cell_type": "code",
   "execution_count": 47,
   "id": "e64192b1-5242-4254-b1c9-e674599b7724",
   "metadata": {},
   "outputs": [
    {
     "data": {
      "text/html": [
       "<div>\n",
       "<style scoped>\n",
       "    .dataframe tbody tr th:only-of-type {\n",
       "        vertical-align: middle;\n",
       "    }\n",
       "\n",
       "    .dataframe tbody tr th {\n",
       "        vertical-align: top;\n",
       "    }\n",
       "\n",
       "    .dataframe thead th {\n",
       "        text-align: right;\n",
       "    }\n",
       "</style>\n",
       "<table border=\"1\" class=\"dataframe\">\n",
       "  <thead>\n",
       "    <tr style=\"text-align: right;\">\n",
       "      <th></th>\n",
       "      <th>Date</th>\n",
       "      <th>Open</th>\n",
       "      <th>High</th>\n",
       "      <th>Low</th>\n",
       "      <th>Close</th>\n",
       "      <th>Volume</th>\n",
       "      <th>Percent_change</th>\n",
       "    </tr>\n",
       "  </thead>\n",
       "  <tbody>\n",
       "    <tr>\n",
       "      <th>0</th>\n",
       "      <td>2023-11-30</td>\n",
       "      <td>449.402930</td>\n",
       "      <td>450.665851</td>\n",
       "      <td>447.291468</td>\n",
       "      <td>450.310638</td>\n",
       "      <td>79752700</td>\n",
       "      <td>0.000000</td>\n",
       "    </tr>\n",
       "    <tr>\n",
       "      <th>1</th>\n",
       "      <td>2023-12-01</td>\n",
       "      <td>449.689052</td>\n",
       "      <td>453.517290</td>\n",
       "      <td>449.087205</td>\n",
       "      <td>452.974640</td>\n",
       "      <td>89097900</td>\n",
       "      <td>-0.588113</td>\n",
       "    </tr>\n",
       "    <tr>\n",
       "      <th>2</th>\n",
       "      <td>2023-12-04</td>\n",
       "      <td>449.521348</td>\n",
       "      <td>452.994373</td>\n",
       "      <td>448.278150</td>\n",
       "      <td>450.596802</td>\n",
       "      <td>72430900</td>\n",
       "      <td>0.527709</td>\n",
       "    </tr>\n",
       "    <tr>\n",
       "      <th>3</th>\n",
       "      <td>2023-12-05</td>\n",
       "      <td>449.185908</td>\n",
       "      <td>451.484808</td>\n",
       "      <td>448.801097</td>\n",
       "      <td>450.508026</td>\n",
       "      <td>69793500</td>\n",
       "      <td>0.019706</td>\n",
       "    </tr>\n",
       "    <tr>\n",
       "      <th>4</th>\n",
       "      <td>2023-12-06</td>\n",
       "      <td>452.688518</td>\n",
       "      <td>452.718117</td>\n",
       "      <td>448.248558</td>\n",
       "      <td>448.692566</td>\n",
       "      <td>69124700</td>\n",
       "      <td>0.404611</td>\n",
       "    </tr>\n",
       "  </tbody>\n",
       "</table>\n",
       "</div>"
      ],
      "text/plain": [
       "         Date        Open        High         Low       Close    Volume  \\\n",
       "0  2023-11-30  449.402930  450.665851  447.291468  450.310638  79752700   \n",
       "1  2023-12-01  449.689052  453.517290  449.087205  452.974640  89097900   \n",
       "2  2023-12-04  449.521348  452.994373  448.278150  450.596802  72430900   \n",
       "3  2023-12-05  449.185908  451.484808  448.801097  450.508026  69793500   \n",
       "4  2023-12-06  452.688518  452.718117  448.248558  448.692566  69124700   \n",
       "\n",
       "   Percent_change  \n",
       "0        0.000000  \n",
       "1       -0.588113  \n",
       "2        0.527709  \n",
       "3        0.019706  \n",
       "4        0.404611  "
      ]
     },
     "execution_count": 47,
     "metadata": {},
     "output_type": "execute_result"
    }
   ],
   "source": [
    "spyStock_dropped = spyStock_dropped.fillna(0)\n",
    "spyStock_dropped.head()"
   ]
  },
  {
   "cell_type": "markdown",
   "id": "30634679-60b3-410b-9073-2dbbf2903baa",
   "metadata": {},
   "source": [
    "## **8. Finding Outliers**"
   ]
  },
  {
   "cell_type": "markdown",
   "id": "57ffa247-de61-4184-af04-3bc6b615eeb1",
   "metadata": {},
   "source": [
    "### **8.1 ``SPY`` Option Calls: Finding Outliers**"
   ]
  },
  {
   "cell_type": "code",
   "execution_count": 140,
   "id": "b6d8c370-43ae-4cb1-a0ba-a0257c5935ad",
   "metadata": {},
   "outputs": [
    {
     "data": {
      "image/png": "[encoded data removed]",
      "text/plain": [
       "<Figure size 640x480 with 1 Axes>"
      ]
     },
     "metadata": {},
     "output_type": "display_data"
    }
   ],
   "source": [
    "fig, ax = plt.subplots()\n",
    "\n",
    "numeric_df = spy_options_calls_droppedV.select_dtypes(include=['number'])\n",
    "ax.boxplot( [numeric_df[c] for c  in ['strike', 'lastPrice', 'bid', 'ask']])\n",
    "ax.set_xticklabels([c for c  in ['strike', 'lastPrice', 'bid', 'ask']], rotation = 90)\n",
    "\n",
    "\n",
    "plt.show()\n"
   ]
  },
  {
   "cell_type": "code",
   "execution_count": 142,
   "id": "1b116454-627b-40ab-bdd2-0d286bf90510",
   "metadata": {},
   "outputs": [
    {
     "data": {
      "image/png": "[encoded data removed]",
      "text/plain": [
       "<Figure size 640x480 with 1 Axes>"
      ]
     },
     "metadata": {},
     "output_type": "display_data"
    }
   ],
   "source": [
    "fig, ax = plt.subplots()\n",
    "\n",
    "numeric_df = spy_options_calls_droppedV.select_dtypes(include=['number'])\n",
    "ax.boxplot( [numeric_df[c] for c  in ['impliedVolatility']])\n",
    "ax.set_xticklabels([c for c  in ['impliedVolatility']], rotation = 90)\n",
    "\n",
    "\n",
    "plt.show()"
   ]
  },
  {
   "cell_type": "markdown",
   "id": "928dc97a-f9cf-46b4-bb97-012b517e6b1c",
   "metadata": {},
   "source": [
    "### **8.2 ``SPY`` Stock: Finding Outliers**"
   ]
  },
  {
   "cell_type": "code",
   "execution_count": 50,
   "id": "1bf9f865-c29e-4836-9066-ada9d95fdc63",
   "metadata": {},
   "outputs": [
    {
     "data": {
      "image/png": "[encoded data removed]",
      "text/plain": [
       "<Figure size 640x480 with 1 Axes>"
      ]
     },
     "metadata": {},
     "output_type": "display_data"
    }
   ],
   "source": [
    "spy_positive = spyStock_dropped[spyStock_droped['Percent_change']>0]\n",
    "spy_negative = spyStock_dropped[spyStock_droped['Percent_change']<0]\n",
    "\n",
    "\n",
    "fig, ax = plt.subplots() \n",
    "ax.bar(spy_positive.index, spy_positive['Percent_change'], color=\"g\")\n",
    "\n",
    "ax.bar(spy_negative.index, spy_negative['Percent_change'], color=\"r\")\n",
    "plt.show()\n"
   ]
  },
  {
   "cell_type": "code",
   "execution_count": 52,
   "id": "21d92535-d962-44b9-bef5-23647c3e75b6",
   "metadata": {},
   "outputs": [
    {
     "data": {
      "image/png": "[encoded data removed]",
      "text/plain": [
       "<Figure size 640x480 with 1 Axes>"
      ]
     },
     "metadata": {},
     "output_type": "display_data"
    }
   ],
   "source": [
    "fig, ax = plt.subplots()\n",
    "\n",
    "ax.boxplot([ spyStock_dropped[c]for c in [\"Open\", \"High\", \"Low\", \"Close\"] ])\n",
    "\n",
    "plt.show()"
   ]
  },
  {
   "cell_type": "code",
   "execution_count": 58,
   "id": "711f2460-d099-40a5-8dc6-53e463ec4b11",
   "metadata": {},
   "outputs": [
    {
     "data": {
      "image/png": "[encoded data removed]",
      "text/plain": [
       "<Figure size 640x480 with 1 Axes>"
      ]
     },
     "metadata": {},
     "output_type": "display_data"
    }
   ],
   "source": [
    "fig, ax = plt.subplots()\n",
    "\n",
    "ax.boxplot(spyStock_dropped[[\"Volume\"]])\n",
    "\n",
    "plt.show()"
   ]
  },
  {
   "cell_type": "markdown",
   "id": "ef9ab110-4fcb-4d49-9216-09d765f8efc5",
   "metadata": {},
   "source": [
    "We don't have any outliers for``Open``, ``High``, ``Low``, ``Close``, and ``percent_change``. But we have outliers for ``Volume``, however, we keep them. "
   ]
  },
  {
   "cell_type": "markdown",
   "id": "a97cf4e9-ca43-4465-b8b1-60f8e8550f02",
   "metadata": {},
   "source": [
    "## **8. Saving the Data**"
   ]
  },
  {
   "cell_type": "code",
   "execution_count": 144,
   "id": "ab3b6406-823b-4eca-9e01-a9fccaf77015",
   "metadata": {},
   "outputs": [],
   "source": [
    "spyStock_dropped.to_csv('spyWragled.csv')\n",
    "spy_options_calls_droppedV.to_csv('spyCallsWrangled.csv')"
   ]
  },
  {
   "cell_type": "code",
   "execution_count": null,
   "id": "742e6bf0-3948-4a1e-bf05-908eb87367a2",
   "metadata": {},
   "outputs": [],
   "source": []
  }
 ],
 "metadata": {
  "kernelspec": {
   "display_name": "Python 3 (ipykernel)",
   "language": "python",
   "name": "python3"
  },
  "language_info": {
   "codemirror_mode": {
    "name": "ipython",
    "version": 3
   },
   "file_extension": ".py",
   "mimetype": "text/x-python",
   "name": "python",
   "nbconvert_exporter": "python",
   "pygments_lexer": "ipython3",
   "version": "3.12.7"
  }
 },
 "nbformat": 4,
 "nbformat_minor": 5
}
